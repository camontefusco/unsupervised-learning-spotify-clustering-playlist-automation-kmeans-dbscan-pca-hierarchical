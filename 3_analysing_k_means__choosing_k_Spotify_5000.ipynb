{
 "cells": [
  {
   "cell_type": "markdown",
   "id": "21a74393",
   "metadata": {},
   "source": [
    "# 3 — Analysing K-Means: Choosing **k** (Beginner-Friendly)\n",
    "\n",
    "**Purpose:** Find a sensible number of clusters (*k*) for Moosic playlists.\n",
    "\n",
    "**You’ll learn:**\n",
    "- What the **Elbow** method (inertia) tells us\n",
    "- What **Silhouette**, **Davies–Bouldin**, and **Calinski–Harabasz** measure\n",
    "- How to pick a practical `k` (not just the mathematically ‘best’)\n",
    "\n",
    "> Tip: Use metrics as **guides**. Pair them with listening & editorial judgment."
   ]
  },
  {
   "cell_type": "markdown",
   "id": "12cd4890",
   "metadata": {},
   "source": [
    "## 0. Imports & setup"
   ]
  },
  {
   "cell_type": "code",
   "execution_count": null,
   "id": "40ffbf17",
   "metadata": {},
   "outputs": [],
   "source": [
    "\n",
    "import numpy as np\n",
    "import pandas as pd\n",
    "import re\n",
    "from pathlib import Path\n",
    "\n",
    "import matplotlib.pyplot as plt\n",
    "\n",
    "from sklearn.preprocessing import QuantileTransformer, StandardScaler\n",
    "from sklearn.cluster import KMeans\n",
    "from sklearn.metrics import silhouette_score, davies_bouldin_score, calinski_harabasz_score\n",
    "\n",
    "plt.rcParams['figure.figsize'] = (7,5)\n",
    "RNG = np.random.RandomState(42)\n"
   ]
  },
  {
   "cell_type": "markdown",
   "id": "8d2b5a9c",
   "metadata": {},
   "source": [
    "## 1. Load data and select features\n",
    "Place your CSV at `../data/spotify_5000_songs.csv`. We’ll do a light clean of column names."
   ]
  },
  {
   "cell_type": "code",
   "execution_count": null,
   "id": "72f6b6d3",
   "metadata": {},
   "outputs": [],
   "source": [
    "\n",
    "DATA = Path(\"../data/spotify_5000_songs.csv\")\n",
    "assert DATA.exists(), f\"Missing data at {DATA}. Place your CSV there.\"\n",
    "\n",
    "def clean_col(c):\n",
    "    s = re.sub(r\"\\s+\", \" \", str(c)).strip()\n",
    "    return s.split(\" \")[0]\n",
    "\n",
    "df_raw = pd.read_csv(DATA)\n",
    "df = df_raw.copy()\n",
    "df.columns = [clean_col(c) for c in df.columns]\n",
    "\n",
    "FEATURES = ['danceability','energy','acousticness','instrumentalness','liveness','valence',\n",
    "            'tempo','speechiness','loudness','duration_ms','key','mode','time_signature']\n",
    "available = [c for c in FEATURES if c in df.columns]\n",
    "X = df[available].apply(pd.to_numeric, errors='coerce').dropna()\n",
    "\n",
    "print(\"Using features:\", available)\n",
    "X.shape\n"
   ]
  },
  {
   "cell_type": "markdown",
   "id": "d04e175f",
   "metadata": {},
   "source": [
    "## 2. Scale features (crucial for distance-based clustering)\n",
    "We’ll use **QuantileTransformer** by default (good for skew). You can toggle StandardScaler to compare."
   ]
  },
  {
   "cell_type": "code",
   "execution_count": null,
   "id": "e88b71b1",
   "metadata": {},
   "outputs": [],
   "source": [
    "\n",
    "use_quantile = True\n",
    "\n",
    "if use_quantile:\n",
    "    scaler = QuantileTransformer(output_distribution='normal', n_quantiles=min(1000, len(X)), random_state=42)\n",
    "else:\n",
    "    scaler = StandardScaler()\n",
    "\n",
    "X_scaled = scaler.fit_transform(X)\n",
    "X_scaled[:2]\n"
   ]
  },
  {
   "cell_type": "markdown",
   "id": "7041f0f6",
   "metadata": {},
   "source": [
    "## 3. Define a `k` sweep and metrics\n",
    "We’ll try a range and record four values per `k`: **inertia**, **silhouette**, **Davies–Bouldin**, **Calinski–Harabasz**."
   ]
  },
  {
   "cell_type": "code",
   "execution_count": null,
   "id": "15779e6f",
   "metadata": {},
   "outputs": [],
   "source": [
    "\n",
    "def safe_metrics(Xt, labels, inertia):\n",
    "    uniq = set(labels)\n",
    "    if len(uniq) < 2:\n",
    "        return {'inertia': float(inertia), 'silhouette': None, 'davies_bouldin': None, 'calinski_harabasz': None}\n",
    "    return {\n",
    "        'inertia': float(inertia),\n",
    "        'silhouette': float(silhouette_score(Xt, labels)),\n",
    "        'davies_bouldin': float(davies_bouldin_score(Xt, labels)),\n",
    "        'calinski_harabasz': float(calinski_harabasz_score(Xt, labels)),\n",
    "    }\n",
    "\n",
    "def k_sweep(Xt, k_values, n_init=10, random_state=42):\n",
    "    rows = []\n",
    "    for k in k_values:\n",
    "        km = KMeans(n_clusters=k, n_init=n_init, random_state=random_state).fit(Xt)\n",
    "        rows.append({'k': k, **safe_metrics(Xt, km.labels_, km.inertia_)})\n",
    "    return pd.DataFrame(rows)\n"
   ]
  },
  {
   "cell_type": "markdown",
   "id": "45bf94bf",
   "metadata": {},
   "source": [
    "## 4. Run the sweep\n",
    "We’ll try `k` from 4 to 30 (step 2). Adjust if you want more/less granularity."
   ]
  },
  {
   "cell_type": "code",
   "execution_count": null,
   "id": "f5650b27",
   "metadata": {},
   "outputs": [],
   "source": [
    "\n",
    "k_values = list(range(4, 31, 2))\n",
    "df_k = k_sweep(X_scaled, k_values)\n",
    "df_k\n"
   ]
  },
  {
   "cell_type": "markdown",
   "id": "b0c8ede9",
   "metadata": {},
   "source": [
    "### Plot: Elbow (Inertia)\n",
    "Look for a **bend** where adding more clusters gives diminishing returns."
   ]
  },
  {
   "cell_type": "code",
   "execution_count": null,
   "id": "1e248643",
   "metadata": {},
   "outputs": [],
   "source": [
    "\n",
    "plt.figure()\n",
    "plt.plot(df_k['k'], df_k['inertia'], marker='o')\n",
    "plt.xlabel('k'); plt.ylabel('Inertia')\n",
    "plt.title('Elbow Curve (K-Means)')\n",
    "plt.show()\n"
   ]
  },
  {
   "cell_type": "markdown",
   "id": "7900d9a3",
   "metadata": {},
   "source": [
    "### Plot: Silhouette vs k\n",
    "Higher is better. Peaks suggest well-separated clusters."
   ]
  },
  {
   "cell_type": "code",
   "execution_count": null,
   "id": "64ce993d",
   "metadata": {},
   "outputs": [],
   "source": [
    "\n",
    "plt.figure()\n",
    "plt.plot(df_k['k'], df_k['silhouette'], marker='o')\n",
    "plt.xlabel('k'); plt.ylabel('Silhouette')\n",
    "plt.title('Silhouette vs k (K-Means)')\n",
    "plt.show()\n"
   ]
  },
  {
   "cell_type": "markdown",
   "id": "175c2a87",
   "metadata": {},
   "source": [
    "## 5. Pick a practical `k`\n",
    "We’ll sort by Silhouette (descending) and inspect the top candidates. Remember to balance quality vs. practicality."
   ]
  },
  {
   "cell_type": "code",
   "execution_count": null,
   "id": "6c1eacea",
   "metadata": {},
   "outputs": [],
   "source": [
    "\n",
    "top = df_k.dropna(subset=['silhouette']).sort_values('silhouette', ascending=False).head(5)\n",
    "top\n"
   ]
  },
  {
   "cell_type": "markdown",
   "id": "8bb8d9c2",
   "metadata": {},
   "source": [
    "**How to choose**\n",
    "- Pick a `k` near a **Silhouette peak** **and** an **Elbow bend**.\n",
    "- For Moosic, `k≈20` offers a good balance: enough variety without over-fragmentation.\n",
    "- You can re-run this with **StandardScaler** to compare."
   ]
  },
  {
   "cell_type": "markdown",
   "id": "17003bef",
   "metadata": {},
   "source": [
    "## 6. Save results for reuse\n",
    "Other notebooks (and the README) can use this sweep table."
   ]
  },
  {
   "cell_type": "code",
   "execution_count": null,
   "id": "367c8123",
   "metadata": {},
   "outputs": [],
   "source": [
    "\n",
    "OUT = Path(\"../reports\")\n",
    "OUT.mkdir(parents=True, exist_ok=True)\n",
    "out_path = OUT / \"kmeans_sweep_results.csv\"\n",
    "df_k.to_csv(out_path, index=False)\n",
    "print(f\"Saved: {out_path}\")\n"
   ]
  },
  {
   "cell_type": "markdown",
   "id": "68a43b0b",
   "metadata": {},
   "source": [
    "---\n",
    "## 7. Next steps\n",
    "- Compare K-Means vs **Agglomerative** and **DBSCAN** (different cluster assumptions)\n",
    "- Visualize your chosen `k` in 2D (PCA/UMAP) and show **example tracks per cluster**\n",
    "- Keep `k` flexible; editors might prefer fewer/more playlists depending on use-case"
   ]
  }
 ],
 "metadata": {},
 "nbformat": 4,
 "nbformat_minor": 5
}
