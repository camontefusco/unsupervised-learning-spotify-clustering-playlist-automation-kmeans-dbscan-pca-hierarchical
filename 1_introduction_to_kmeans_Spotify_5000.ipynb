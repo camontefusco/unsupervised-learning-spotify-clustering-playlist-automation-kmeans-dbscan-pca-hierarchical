{
 "cells": [
  {
   "cell_type": "markdown",
   "id": "e22d09cb",
   "metadata": {},
   "source": [
    "# 1 — Introduction to K‑Means (Moosic)\n",
    "\n",
    "**Goal of this notebook:**\n",
    "- Teach the *idea* of K‑Means (quick, visual intuition)\n",
    "- Apply K‑Means on the real Spotify dataset (5000 songs)\n",
    "- Produce a *first draft* of playlist clusters for Moosic\n",
    "\n",
    "**You’ll learn:**\n",
    "1) What K‑Means optimizes, and why scaling matters\n",
    "2) How to run K‑Means on Spotify features\n",
    "3) How to read basic cluster metrics and a 2D visualization\n",
    "\n",
    "> Tip: This is a **teaching + applied** notebook. For deeper tuning, see the later notebooks."
   ]
  },
  {
   "cell_type": "markdown",
   "id": "8a0afc81",
   "metadata": {},
   "source": [
    "## 0. Imports & Settings"
   ]
  },
  {
   "cell_type": "code",
   "execution_count": null,
   "id": "b347e95f",
   "metadata": {},
   "outputs": [],
   "source": [
    "\n",
    "# Standard scientific stack\n",
    "import numpy as np\n",
    "import pandas as pd\n",
    "from pathlib import Path\n",
    "\n",
    "# Modeling\n",
    "from sklearn.preprocessing import QuantileTransformer, StandardScaler\n",
    "from sklearn.cluster import KMeans\n",
    "from sklearn.decomposition import PCA\n",
    "from sklearn.metrics import silhouette_score, davies_bouldin_score, calinski_harabasz_score\n",
    "\n",
    "# Plotting\n",
    "import matplotlib.pyplot as plt\n",
    "\n",
    "# Reproducibility\n",
    "RNG = np.random.RandomState(42)\n",
    "plt.rcParams['figure.figsize'] = (7,5)\n"
   ]
  },
  {
   "cell_type": "markdown",
   "id": "1e183921",
   "metadata": {},
   "source": [
    "## 1. A 2‑minute intuition: what does K‑Means do?\n",
    "K‑Means tries to split data into **k groups** so that points are close to their group's **centroid**.\n",
    "\n",
    "- It starts from random centroids\n",
    "- Repeats: *assign → update* until things stop changing\n",
    "- It minimizes **inertia** (sum of squared distances to centroids)\n",
    "\n",
    "Let’s see a tiny 2D demo to build intuition (not the Spotify data yet)."
   ]
  },
  {
   "cell_type": "code",
   "execution_count": null,
   "id": "0ed77779",
   "metadata": {},
   "outputs": [],
   "source": [
    "\n",
    "# --- Tiny synthetic demo (for intuition only) ---\n",
    "# 3 blobs in 2D so we can see what's happening\n",
    "n_per = 150\n",
    "A = RNG.normal(loc=[-2, 0], scale=[0.7, 0.5], size=(n_per, 2))\n",
    "B = RNG.normal(loc=[ 2, 0], scale=[0.7, 0.5], size=(n_per, 2))\n",
    "C = RNG.normal(loc=[ 0, 3], scale=[0.7, 0.5], size=(n_per, 2))\n",
    "X_demo = np.vstack([A,B,C])\n",
    "\n",
    "km_demo = KMeans(n_clusters=3, n_init=10, random_state=42).fit(X_demo)\n",
    "labels_demo = km_demo.labels_\n",
    "\n",
    "plt.scatter(X_demo[:,0], X_demo[:,1], c=labels_demo, s=12)\n",
    "plt.title(\"K-Means on a simple 2D dataset\")\n",
    "plt.xlabel(\"x1\"); plt.ylabel(\"x2\"); plt.show()\n"
   ]
  },
  {
   "cell_type": "markdown",
   "id": "d0501a43",
   "metadata": {},
   "source": [
    "**Reading the plot:** Points with the same color form a cluster. K‑Means found 3 compact groups.\n",
    "On real data, we won’t have only two features to plot, so we’ll use a 2D projection later."
   ]
  },
  {
   "cell_type": "markdown",
   "id": "50e5e2ad",
   "metadata": {},
   "source": [
    "## 2. Load the Spotify dataset (5000 songs)\n",
    "Place your CSV at `../data/spotify_5000_songs.csv`.\n",
    "We’ll do a small column cleanup because the original file may contain extra spaces."
   ]
  },
  {
   "cell_type": "code",
   "execution_count": null,
   "id": "55ad87db",
   "metadata": {},
   "outputs": [],
   "source": [
    "\n",
    "import re\n",
    "DATA = Path(\"../data/spotify_5000_songs.csv\")\n",
    "assert DATA.exists(), f\"Missing data file at {DATA}. Put your CSV there.\"\n",
    "\n",
    "# Load and clean columns (strip extra spaces / keep first token if necessary)\n",
    "df_raw = pd.read_csv(DATA)\n",
    "\n",
    "def clean_col(c):\n",
    "    s = re.sub(r\"\\s+\", \" \", str(c)).strip()\n",
    "    return s.split(\" \")[0]  # keep first token (works for columns like 'name   ...')\n",
    "\n",
    "df = df_raw.copy()\n",
    "df.columns = [clean_col(c) for c in df.columns]\n",
    "\n",
    "# Take a peek\n",
    "df.head(3)\n"
   ]
  },
  {
   "cell_type": "markdown",
   "id": "c4410753",
   "metadata": {},
   "source": [
    "### Available features\n",
    "We’ll focus on Spotify’s numeric audio features commonly used for clustering."
   ]
  },
  {
   "cell_type": "code",
   "execution_count": null,
   "id": "a2e479f1",
   "metadata": {},
   "outputs": [],
   "source": [
    "\n",
    "FEATURES = [\n",
    "    'danceability','energy','acousticness','instrumentalness','liveness','valence',\n",
    "    'tempo','speechiness','loudness','duration_ms','key','mode','time_signature'\n",
    "]\n",
    "available = [c for c in FEATURES if c in df.columns]\n",
    "missing = [c for c in FEATURES if c not in df.columns]\n",
    "print(\"Using features:\", available)\n",
    "print(\"Missing (ignored):\", missing)\n",
    "\n",
    "X = df[available].apply(pd.to_numeric, errors='coerce').dropna()\n",
    "print(X.shape)\n",
    "X.describe().T\n"
   ]
  },
  {
   "cell_type": "markdown",
   "id": "34c3bb47",
   "metadata": {},
   "source": [
    "## 3. Why scaling matters (and what we’ll use)\n",
    "Clustering uses **distances**. If one feature has a much larger range (e.g., `duration_ms`), it can dominate.\n",
    "\n",
    "We’ll use **QuantileTransformer** to make each feature more Gaussian-like (good for skewed audio features).\n",
    "You can try **StandardScaler** too; results may differ."
   ]
  },
  {
   "cell_type": "code",
   "execution_count": null,
   "id": "e793f366",
   "metadata": {},
   "outputs": [],
   "source": [
    "\n",
    "# Choose a scaler\n",
    "use_quantile = True\n",
    "\n",
    "if use_quantile:\n",
    "    scaler = QuantileTransformer(output_distribution=\"normal\",\n",
    "                                 n_quantiles=min(1000, len(X)),\n",
    "                                 random_state=42)\n",
    "else:\n",
    "    scaler = StandardScaler()\n",
    "\n",
    "X_scaled = scaler.fit_transform(X)\n",
    "X_scaled[:3]\n"
   ]
  },
  {
   "cell_type": "markdown",
   "id": "79dbf23a",
   "metadata": {},
   "source": [
    "## 4. First real run of K‑Means on Spotify\n",
    "We’ll start with **k=20** clusters (a reasonable draft number of playlists).\n",
    "Later notebooks will **tune k** and **compare algorithms**."
   ]
  },
  {
   "cell_type": "code",
   "execution_count": null,
   "id": "f7a2870a",
   "metadata": {},
   "outputs": [],
   "source": [
    "\n",
    "k = 20\n",
    "km = KMeans(n_clusters=k, n_init=10, random_state=42).fit(X_scaled)\n",
    "labels = km.labels_\n",
    "df_clusters = df.copy()\n",
    "df_clusters['cluster'] = labels\n",
    "df_clusters['cluster'].value_counts().sort_index()\n"
   ]
  },
  {
   "cell_type": "markdown",
   "id": "0f13798f",
   "metadata": {},
   "source": [
    "### Quick metrics (how good are these clusters?)\n",
    "- **Silhouette** (higher = better separation)\n",
    "- **Davies–Bouldin** (lower = better)\n",
    "- **Calinski–Harabasz** (higher = denser, better)\n",
    "\n",
    "> These don’t know ‘genres’; they only look at distance separation. Use them as a *guideline*, not gospel."
   ]
  },
  {
   "cell_type": "code",
   "execution_count": null,
   "id": "7b3bddbb",
   "metadata": {},
   "outputs": [],
   "source": [
    "\n",
    "def safe_metrics(Xt, y):\n",
    "    uniq = set(y)\n",
    "    if len(uniq) < 2:\n",
    "        return {\"silhouette\": None, \"davies_bouldin\": None, \"calinski_harabasz\": None}\n",
    "    return {\n",
    "        \"silhouette\": float(silhouette_score(Xt, y)),\n",
    "        \"davies_bouldin\": float(davies_bouldin_score(Xt, y)),\n",
    "        \"calinski_harabasz\": float(calinski_harabasz_score(Xt, y)),\n",
    "    }\n",
    "\n",
    "metrics = safe_metrics(X_scaled, labels)\n",
    "metrics\n"
   ]
  },
  {
   "cell_type": "markdown",
   "id": "c4db3568",
   "metadata": {},
   "source": [
    "## 5. A quick 2D view with PCA\n",
    "We’ll project the scaled features to **2 principal components** just to visualize clusters.\n",
    "Note: PCA is only for plotting here (we are **not** clustering in PCA space for this notebook)."
   ]
  },
  {
   "cell_type": "code",
   "execution_count": null,
   "id": "863a888b",
   "metadata": {},
   "outputs": [],
   "source": [
    "\n",
    "pca = PCA(n_components=2, random_state=42)\n",
    "X2 = pca.fit_transform(X_scaled)\n",
    "\n",
    "plt.scatter(X2[:,0], X2[:,1], c=labels, s=5)\n",
    "plt.title(f'K-Means (k={k}) — PCA 2D view')\n",
    "plt.xlabel('PC1'); plt.ylabel('PC2')\n",
    "plt.show()\n"
   ]
  },
  {
   "cell_type": "markdown",
   "id": "cf6e6c52",
   "metadata": {},
   "source": [
    "**How to read this:**\n",
    "- Points with the same color are assigned to the same cluster (potential playlist)\n",
    "- Tight, separated color blobs → better clustering\n",
    "- Overlap → playlists that may need tuning, more features, or a different algorithm"
   ]
  },
  {
   "cell_type": "markdown",
   "id": "2abec253",
   "metadata": {},
   "source": [
    "## 6. Make it tangible: a few example tracks per cluster\n",
    "Listing a few songs per cluster helps editors *feel* the mood. If your data has `name` and `artist`, we’ll show the top 3 per cluster."
   ]
  },
  {
   "cell_type": "code",
   "execution_count": null,
   "id": "da96acf4",
   "metadata": {},
   "outputs": [],
   "source": [
    "\n",
    "name_cols = [c for c in ['name','song_name'] if c in df_clusters.columns]\n",
    "artist_cols = [c for c in ['artist'] if c in df_clusters.columns]\n",
    "show_cols = name_cols + artist_cols + (['energy','valence','tempo'] if set(['energy','valence','tempo']).issubset(df_clusters.columns) else []) + ['cluster']\n",
    "\n",
    "examples = (df_clusters[show_cols]\n",
    "            .groupby('cluster', group_keys=False)\n",
    "            .head(3)\n",
    "            .sort_values(['cluster'] + name_cols if name_cols else ['cluster']))\n",
    "examples.head(15)\n"
   ]
  },
  {
   "cell_type": "markdown",
   "id": "f013f3ea",
   "metadata": {},
   "source": [
    "## 7. Save outputs for later notebooks / presentation\n",
    "We’ll save the cluster assignments so other notebooks (e.g., evaluation, visualization) can reuse them. These files are great to show in your GitHub repo."
   ]
  },
  {
   "cell_type": "code",
   "execution_count": null,
   "id": "eef6354b",
   "metadata": {},
   "outputs": [],
   "source": [
    "\n",
    "OUT_DIR = Path(\"../reports\")\n",
    "OUT_DIR.mkdir(parents=True, exist_ok=True)\n",
    "\n",
    "assign_path = OUT_DIR / \"kmeans20_quantile_assignments.csv\"\n",
    "df_clusters.to_csv(assign_path, index=False)\n",
    "\n",
    "print(f\"Saved: {assign_path}\")\n"
   ]
  },
  {
   "cell_type": "markdown",
   "id": "52763667",
   "metadata": {},
   "source": [
    "---\n",
    "## 8. What to do next\n",
    "- Use the **K‑Means analysis** notebook to choose **k** (elbow/silhouette)\n",
    "- Compare **Agglomerative** and **DBSCAN** to see different structures\n",
    "- Add **UMAP** visualization for prettier cluster maps\n",
    "\n",
    "**Key takeaway for Moosic:** K‑Means gives a fast, understandable *first draft* of playlists. Human editors can rename/trim the clusters into final playlists, and later we can add user signals to personalize."
   ]
  }
 ],
 "metadata": {},
 "nbformat": 4,
 "nbformat_minor": 5
}
